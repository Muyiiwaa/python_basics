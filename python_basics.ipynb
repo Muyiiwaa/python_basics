{
 "cells": [
  {
   "metadata": {},
   "cell_type": "markdown",
   "source": [
    "### Python Basics Outline\n",
    "\n",
    "The following are going to be covered in this class:\n",
    "* variables, datatypes and operators\n",
    "* conditionals\n",
    "* basic data structures (lists, dictionaries, tuples)\n",
    "* Loops (for loops and while loops)\n",
    "* functions\n",
    "* Comprehensions and Lambda Functions"
   ],
   "id": "1b1d38273e697b97"
  },
  {
   "metadata": {},
   "cell_type": "markdown",
   "source": "### Variables and Datatypes",
   "id": "236655f3cc369d73"
  },
  {
   "metadata": {
    "ExecuteTime": {
     "end_time": "2024-06-10T15:34:28.633308Z",
     "start_time": "2024-06-10T15:34:28.626059Z"
    }
   },
   "cell_type": "code",
   "source": [
    "# declare different variables with distinct datatypes\n",
    "name = 'Kola'\n",
    "age = 45\n",
    "height = 49.60\n",
    "married = True\n",
    "\n",
    "# print each of the variables\n",
    "print(f'{name} is of the type {type(name)}')\n",
    "print(f'{age} is of the type {type(age)}')\n",
    "print(f'{height} is of the type {type(height)}')\n",
    "print(f'{married} is of the type {type(married)}')"
   ],
   "id": "b9735b389ec41131",
   "outputs": [
    {
     "name": "stdout",
     "output_type": "stream",
     "text": [
      "Kola is of the type <class 'str'>\n",
      "45 is of the type <class 'int'>\n",
      "49.6 is of the type <class 'float'>\n",
      "True is of the type <class 'bool'>\n"
     ]
    }
   ],
   "execution_count": 7
  },
  {
   "metadata": {
    "ExecuteTime": {
     "end_time": "2024-06-10T15:32:17.323874Z",
     "start_time": "2024-06-10T15:32:17.317716Z"
    }
   },
   "cell_type": "code",
   "source": [
    "name = 'tola'\n",
    "print(f'{name} said God is good')"
   ],
   "id": "b3783a53ddef2d59",
   "outputs": [
    {
     "name": "stdout",
     "output_type": "stream",
     "text": [
      "tola said God is good\n"
     ]
    }
   ],
   "execution_count": 6
  },
  {
   "metadata": {
    "ExecuteTime": {
     "end_time": "2024-06-10T15:52:23.408013Z",
     "start_time": "2024-06-10T15:52:19.301979Z"
    }
   },
   "cell_type": "code",
   "source": [
    "# write a program that computes age by accepting year of birth\n",
    "\n",
    "year_birth = int(input('Enter your year of birth: ')) #type cast year_birth\n",
    "current_year = 2024 # create current year variable\n",
    "age = current_year - year_birth # compute age\n",
    "print(f'You are {age} years old')"
   ],
   "id": "886aeb34e953958c",
   "outputs": [
    {
     "name": "stdout",
     "output_type": "stream",
     "text": [
      "You are 122 years old\n"
     ]
    }
   ],
   "execution_count": 15
  },
  {
   "metadata": {},
   "cell_type": "markdown",
   "source": [
    "### Arithmetic Operators\n",
    "\n",
    "| Operator       | sign    |\n",
    "|----------------|---------|\n",
    "| addition       | +       |\n",
    "| subtraction    | -       |\n",
    "| division       | /       |\n",
    "| floor division | //      |\n",
    "| modulus        | %       |\n",
    "| multiplication | *       |\n",
    "| power          | **      |\n",
    "| root           | **(1/n) |\n",
    "\n"
   ],
   "id": "4a5a566f61f177ae"
  },
  {
   "metadata": {
    "ExecuteTime": {
     "end_time": "2024-06-10T16:12:18.431812Z",
     "start_time": "2024-06-10T16:12:18.423374Z"
    }
   },
   "cell_type": "code",
   "source": "8 ** (1/3)",
   "id": "41ea35c6f0dc5bc7",
   "outputs": [
    {
     "data": {
      "text/plain": [
       "2.0"
      ]
     },
     "execution_count": 30,
     "metadata": {},
     "output_type": "execute_result"
    }
   ],
   "execution_count": 30
  },
  {
   "metadata": {
    "ExecuteTime": {
     "end_time": "2024-06-10T16:10:30.684131Z",
     "start_time": "2024-06-10T16:10:30.674717Z"
    }
   },
   "cell_type": "code",
   "source": "27 % 10",
   "id": "bae502ec8d329e23",
   "outputs": [
    {
     "data": {
      "text/plain": [
       "7"
      ]
     },
     "execution_count": 26,
     "metadata": {},
     "output_type": "execute_result"
    }
   ],
   "execution_count": 26
  },
  {
   "metadata": {
    "ExecuteTime": {
     "end_time": "2024-06-10T16:19:56.921181Z",
     "start_time": "2024-06-10T16:19:50.671210Z"
    }
   },
   "cell_type": "code",
   "source": [
    "# write a program that converts naira to dollar\n",
    "\n",
    "naira = float(input('Enter the naira value: '))\n",
    "rate = 1400\n",
    "dollar = naira/rate\n",
    "print(f'{naira} naira is {round(dollar, 2)} dollars')"
   ],
   "id": "519962afc5d2182b",
   "outputs": [
    {
     "name": "stdout",
     "output_type": "stream",
     "text": [
      "65000.0 naira is 46.43 dollars\n"
     ]
    }
   ],
   "execution_count": 33
  },
  {
   "metadata": {},
   "cell_type": "markdown",
   "source": [
    "### Conditionals\n",
    "\n",
    "1. If \n",
    "2. elif\n",
    "3. else"
   ],
   "id": "8183cb1a2785e107"
  },
  {
   "metadata": {
    "ExecuteTime": {
     "end_time": "2024-06-14T13:43:56.494249Z",
     "start_time": "2024-06-14T13:43:49.560992Z"
    }
   },
   "cell_type": "code",
   "source": [
    "# write a program that checks if a person is an adult teenager or child\n",
    "\n",
    "name = input('Enter your name: ')\n",
    "year_birth = int(input('Enter your year of birth: '))\n",
    "age_class = None\n",
    "age = 2024 - year_birth\n",
    "if age < 13:\n",
    "    age_class = 'child'\n",
    "elif age < 20:\n",
    "    age_class = 'teenager'\n",
    "else:\n",
    "    age_class = 'adult'\n",
    "\n",
    "print(f'Hi {name}, you are a/an {age_class} of {age} years')"
   ],
   "id": "17c4040f10af767a",
   "outputs": [
    {
     "name": "stdout",
     "output_type": "stream",
     "text": [
      "Hi joy, you are a/an child of -211 years\n"
     ]
    }
   ],
   "execution_count": 17
  },
  {
   "metadata": {
    "ExecuteTime": {
     "end_time": "2024-06-14T14:00:18.401235Z",
     "start_time": "2024-06-14T14:00:15.190644Z"
    }
   },
   "cell_type": "code",
   "source": [
    "# fizz buzz challenge\n",
    "number = int(input('Enter the number: '))\n",
    "\n",
    "if number % 5 == 0 and number % 3 == 0:\n",
    "    print('FizzBUzz')\n",
    "elif number % 5 == 0:\n",
    "    print('Buzz')\n",
    "elif number % 3 == 0:\n",
    "    print('Fizz')"
   ],
   "id": "93c00c32e7c21cdc",
   "outputs": [
    {
     "name": "stdout",
     "output_type": "stream",
     "text": [
      "FizzBUzz\n"
     ]
    }
   ],
   "execution_count": 24
  },
  {
   "metadata": {},
   "cell_type": "markdown",
   "source": [
    "### Basic Data Structures\n",
    "\n",
    "##  Lists"
   ],
   "id": "c9c2ca467b8deb49"
  },
  {
   "metadata": {
    "ExecuteTime": {
     "end_time": "2024-06-14T14:07:37.827724Z",
     "start_time": "2024-06-14T14:07:37.821941Z"
    }
   },
   "cell_type": "code",
   "source": [
    "#  created a list of students\n",
    "students = ['ayo', 'shola','bayo']\n",
    "print(type(students))"
   ],
   "id": "ed26c56f8b8b7596",
   "outputs": [
    {
     "name": "stdout",
     "output_type": "stream",
     "text": [
      "<class 'dict'>\n"
     ]
    }
   ],
   "execution_count": 28
  },
  {
   "metadata": {
    "ExecuteTime": {
     "end_time": "2024-06-14T14:12:17.684477Z",
     "start_time": "2024-06-14T14:12:17.678678Z"
    }
   },
   "cell_type": "code",
   "source": [
    "things = [1,3.5, True, students, name,['nokia','gpt']]\n",
    "print(things)"
   ],
   "id": "4e4c7f5ce4777a44",
   "outputs": [
    {
     "name": "stdout",
     "output_type": "stream",
     "text": [
      "[1, 3.5, True, {'ayo': 12, 'shola': 25, 'bayo': 22}, 'joy', ['nokia', 'gpt']]\n"
     ]
    }
   ],
   "execution_count": 30
  },
  {
   "metadata": {
    "ExecuteTime": {
     "end_time": "2024-06-14T14:26:50.760073Z",
     "start_time": "2024-06-14T14:26:50.750617Z"
    }
   },
   "cell_type": "code",
   "source": [
    "# list referncing\n",
    "\n",
    "fruits = ['orange','appple','cashew','grape','mango']\n",
    "fruits[0]\n",
    "fruits[-4]\n",
    "\n",
    "# list slicing\n",
    "print(fruits[3:])\n",
    "fruits[:3]\n",
    "fruits[1:3]\n",
    "print(fruits[1:-1])"
   ],
   "id": "32f5248888b8b3d2",
   "outputs": [
    {
     "name": "stdout",
     "output_type": "stream",
     "text": [
      "['grape', 'mango']\n",
      "['appple', 'cashew', 'grape']\n"
     ]
    }
   ],
   "execution_count": 50
  },
  {
   "metadata": {},
   "cell_type": "markdown",
   "source": "#### List functions and Methods",
   "id": "e7b0c4b8e4be8375"
  },
  {
   "metadata": {
    "ExecuteTime": {
     "end_time": "2024-06-21T13:07:28.237098Z",
     "start_time": "2024-06-21T13:07:28.221912Z"
    }
   },
   "cell_type": "code",
   "source": [
    "even = [2,4,6,8]\n",
    "things = ['car','toy','age','orange']\n",
    "# append method \n",
    "things.append('cup')\n",
    "\n",
    "# sum function\n",
    "sum(even)\n",
    "\n",
    "# len function\n",
    "len(things)\n",
    "\n",
    "# sorted\n",
    "some_nums = [4,6,7,23,1,8,2,18]\n",
    "\n",
    "sorted(some_nums, reverse=False)\n",
    "\n",
    "# .sort method\n",
    "some_nums.sort(reverse=True)\n",
    "\n",
    "# .index method\n",
    "some_nums.index(18)\n",
    "\n",
    "#.extend method\n",
    "some_nums.extend(things)\n",
    "some_nums"
   ],
   "id": "3ff4dbd27b81d5e4",
   "outputs": [
    {
     "data": {
      "text/plain": [
       "[23, 18, 8, 7, 6, 4, 2, 1, 'car', 'toy', 'age', 'orange', 'cup']"
      ]
     },
     "execution_count": 15,
     "metadata": {},
     "output_type": "execute_result"
    }
   ],
   "execution_count": 15
  },
  {
   "metadata": {
    "ExecuteTime": {
     "end_time": "2024-06-21T13:17:46.860509Z",
     "start_time": "2024-06-21T13:17:46.853367Z"
    }
   },
   "cell_type": "code",
   "source": [
    "# tupe functions and methods\n",
    "\n",
    "name = ('wale','segun','sola','tade')\n",
    "even = tuple(even)"
   ],
   "id": "1664f38af579edea",
   "outputs": [],
   "execution_count": 20
  },
  {
   "metadata": {
    "ExecuteTime": {
     "end_time": "2024-06-21T13:16:28.653267Z",
     "start_time": "2024-06-21T13:16:28.644040Z"
    }
   },
   "cell_type": "code",
   "source": [
    "odd = (1,4,6,5,3,8)\n",
    "\n",
    "len(odd)"
   ],
   "id": "1af9d610a5fc3e5f",
   "outputs": [
    {
     "data": {
      "text/plain": [
       "6"
      ]
     },
     "execution_count": 18,
     "metadata": {},
     "output_type": "execute_result"
    }
   ],
   "execution_count": 18
  },
  {
   "metadata": {
    "ExecuteTime": {
     "end_time": "2024-06-21T13:29:12.832093Z",
     "start_time": "2024-06-21T13:29:12.824042Z"
    }
   },
   "cell_type": "code",
   "source": [
    "# dictionaries \n",
    "\n",
    "nigeria = {'osun':'osogbo',\n",
    "           'oyo':'ibadan',\n",
    "           'lagos':'ikeja'}\n",
    "\n",
    "# access the values \n",
    "nigeria['oyo']\n",
    "\n",
    "# .keys method\n",
    "nigeria.keys()\n",
    "\n",
    "# .values\n",
    "nigeria.values()\n",
    "\n",
    "# .items\n",
    "nigeria.items()\n",
    "\n",
    "# .update\n",
    "nigeria.update({'enugu':'enugu'})"
   ],
   "id": "9f9330b834b47ecc",
   "outputs": [],
   "execution_count": 35
  },
  {
   "metadata": {
    "ExecuteTime": {
     "end_time": "2024-06-21T13:29:29.938372Z",
     "start_time": "2024-06-21T13:29:29.928422Z"
    }
   },
   "cell_type": "code",
   "source": "nigeria",
   "id": "2d0a76cc21b37d1e",
   "outputs": [
    {
     "data": {
      "text/plain": [
       "{'osun': 'osogbo', 'oyo': 'ibadan', 'lagos': 'ikeja', 'enugu': 'enugu'}"
      ]
     },
     "execution_count": 36,
     "metadata": {},
     "output_type": "execute_result"
    }
   ],
   "execution_count": 36
  },
  {
   "metadata": {
    "ExecuteTime": {
     "end_time": "2024-06-21T13:28:31.833255Z",
     "start_time": "2024-06-21T13:28:31.827178Z"
    }
   },
   "cell_type": "code",
   "source": [
    "states = {\n",
    "    'Lagos': ('ikeja','agege','vi')\n",
    "}"
   ],
   "id": "76ca75ea9b270170",
   "outputs": [],
   "execution_count": 33
  },
  {
   "metadata": {
    "ExecuteTime": {
     "end_time": "2024-06-21T13:28:32.773265Z",
     "start_time": "2024-06-21T13:28:32.764073Z"
    }
   },
   "cell_type": "code",
   "source": "states['Lagos']",
   "id": "81fc3dc1f0a8ffcd",
   "outputs": [
    {
     "data": {
      "text/plain": [
       "('ikeja', 'agege', 'vi')"
      ]
     },
     "execution_count": 34,
     "metadata": {},
     "output_type": "execute_result"
    }
   ],
   "execution_count": 34
  },
  {
   "metadata": {},
   "cell_type": "markdown",
   "source": "### FOR LOOPS ",
   "id": "41927fd8bc0db119"
  },
  {
   "metadata": {
    "ExecuteTime": {
     "end_time": "2024-06-21T13:46:44.787856Z",
     "start_time": "2024-06-21T13:46:36.262284Z"
    }
   },
   "cell_type": "code",
   "source": [
    "number_list = [1,2,3,4,5,6,7,8,9]\n",
    "number_lis = []\n",
    "for number in number_list:\n",
    "    number_lis.append(number + 0.5)\n",
    "    \n",
    "number_lis"
   ],
   "id": "f28de17e432e52ef",
   "outputs": [
    {
     "data": {
      "text/plain": [
       "[1.5, 2.5, 3.5, 4.5, 5.5, 6.5, 7.5, 8.5, 9.5]"
      ]
     },
     "execution_count": 43,
     "metadata": {},
     "output_type": "execute_result"
    }
   ],
   "execution_count": 43
  },
  {
   "metadata": {
    "ExecuteTime": {
     "end_time": "2024-06-21T13:55:32.619119Z",
     "start_time": "2024-06-21T13:55:32.610430Z"
    }
   },
   "cell_type": "code",
   "source": [
    "# return a list of even numbers between 1 and 20\n",
    "\n",
    "num_50 = list(range(1,21))\n",
    "even_50 = []\n",
    "for number in num_50:\n",
    "    if number % 2 == 0:\n",
    "        even_50.append(number)\n",
    "    else:\n",
    "        pass\n",
    "even_50"
   ],
   "id": "7b7101d29dda2d32",
   "outputs": [
    {
     "data": {
      "text/plain": [
       "[2, 4, 6, 8, 10, 12, 14, 16, 18, 20]"
      ]
     },
     "execution_count": 48,
     "metadata": {},
     "output_type": "execute_result"
    }
   ],
   "execution_count": 48
  },
  {
   "metadata": {
    "ExecuteTime": {
     "end_time": "2024-06-21T14:09:38.904079Z",
     "start_time": "2024-06-21T14:09:38.892115Z"
    }
   },
   "cell_type": "code",
   "source": [
    "### While Loop\n",
    "even_30 = []\n",
    "number = 1\n",
    "\n",
    "while number <= 30:\n",
    "    if number % 2 == 0:\n",
    "        even_30.append(number)\n",
    "        number += 1\n",
    "    else:\n",
    "      number += 1\n",
    "even_30"
   ],
   "id": "a0eba60202ff3910",
   "outputs": [
    {
     "data": {
      "text/plain": [
       "[2, 4, 6, 8, 10, 12, 14, 16, 18, 20, 22, 24, 26, 28, 30]"
      ]
     },
     "execution_count": 52,
     "metadata": {},
     "output_type": "execute_result"
    }
   ],
   "execution_count": 52
  },
  {
   "metadata": {
    "ExecuteTime": {
     "end_time": "2024-06-21T14:25:19.635410Z",
     "start_time": "2024-06-21T14:25:10.295748Z"
    }
   },
   "cell_type": "code",
   "source": [
    "# write a program that returns the lcm of two numbers \n",
    "\n",
    "first_num = int(input('Enter the first number: '))\n",
    "second_num = int(input('Enter the second number: '))\n",
    "\n",
    "if first_num > second_num:\n",
    "    larger = first_num\n",
    "else:\n",
    "    larger = second_num\n",
    "\n",
    "while True:\n",
    "    if larger % first_num == 0 and larger % second_num == 0:\n",
    "        lcm = larger\n",
    "        break\n",
    "    else:\n",
    "        larger += 1\n",
    "\n",
    "print(f'Lcm of {first_num} and {second_num} is {lcm} it ran for {end - start}')"
   ],
   "id": "58f01cc44369a1aa",
   "outputs": [
    {
     "name": "stdout",
     "output_type": "stream",
     "text": [
      "Lcm of 4 and 1387 is 5548 it ran for 0.0029942989349365234\n"
     ]
    }
   ],
   "execution_count": 56
  },
  {
   "metadata": {
    "ExecuteTime": {
     "end_time": "2024-06-21T14:40:05.523582Z",
     "start_time": "2024-06-21T14:39:51.580364Z"
    }
   },
   "cell_type": "code",
   "source": [
    "# write a simple program that checks the number of staff that came to work\n",
    "\n",
    "staff_db = ['timi','abdul','ben','ada','tomi','joe','ife','john']\n",
    "register = []\n",
    "manager_password = 'good'\n",
    "\n",
    "while True:\n",
    "    name = input('Welcome to work, enter your name: ')\n",
    "    if name != manager_password:\n",
    "        if name in staff_db:\n",
    "            register.append(name)\n",
    "        else:\n",
    "            print(f'You are a terrible person')\n",
    "    else:\n",
    "        break\n",
    "\n",
    "print(f'The names in the register is: {register}')"
   ],
   "id": "2ab5f66edb67ff11",
   "outputs": [
    {
     "name": "stdout",
     "output_type": "stream",
     "text": [
      "You are a terrible person\n",
      "The names in the register is: ['timi', 'abdul', 'ben']\n"
     ]
    }
   ],
   "execution_count": 60
  },
  {
   "metadata": {},
   "cell_type": "code",
   "outputs": [],
   "execution_count": null,
   "source": "",
   "id": "691f3cfaa59d768d"
  }
 ],
 "metadata": {
  "kernelspec": {
   "display_name": "Python 3",
   "language": "python",
   "name": "python3"
  },
  "language_info": {
   "codemirror_mode": {
    "name": "ipython",
    "version": 2
   },
   "file_extension": ".py",
   "mimetype": "text/x-python",
   "name": "python",
   "nbconvert_exporter": "python",
   "pygments_lexer": "ipython2",
   "version": "2.7.6"
  }
 },
 "nbformat": 4,
 "nbformat_minor": 5
}
