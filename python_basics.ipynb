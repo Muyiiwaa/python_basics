{
 "cells": [
  {
   "metadata": {},
   "cell_type": "markdown",
   "source": [
    "### Python Basics Outline\n",
    "\n",
    "The following are going to be covered in this class:\n",
    "* variables, datatypes and operators\n",
    "* conditionals\n",
    "* basic data structures (lists, dictionaries, tuples)\n",
    "* Loops (for loops and while loops)\n",
    "* functions\n",
    "* Comprehensions and Lambda Functions"
   ],
   "id": "1b1d38273e697b97"
  },
  {
   "metadata": {},
   "cell_type": "markdown",
   "source": "### Variables and Datatypes",
   "id": "236655f3cc369d73"
  },
  {
   "metadata": {
    "ExecuteTime": {
     "end_time": "2024-06-10T15:34:28.633308Z",
     "start_time": "2024-06-10T15:34:28.626059Z"
    }
   },
   "cell_type": "code",
   "source": [
    "# declare different variables with distinct datatypes\n",
    "name = 'Kola'\n",
    "age = 45\n",
    "height = 49.60\n",
    "married = True\n",
    "\n",
    "# print each of the variables\n",
    "print(f'{name} is of the type {type(name)}')\n",
    "print(f'{age} is of the type {type(age)}')\n",
    "print(f'{height} is of the type {type(height)}')\n",
    "print(f'{married} is of the type {type(married)}')"
   ],
   "id": "b9735b389ec41131",
   "outputs": [
    {
     "name": "stdout",
     "output_type": "stream",
     "text": [
      "Kola is of the type <class 'str'>\n",
      "45 is of the type <class 'int'>\n",
      "49.6 is of the type <class 'float'>\n",
      "True is of the type <class 'bool'>\n"
     ]
    }
   ],
   "execution_count": 7
  },
  {
   "metadata": {
    "ExecuteTime": {
     "end_time": "2024-06-10T15:32:17.323874Z",
     "start_time": "2024-06-10T15:32:17.317716Z"
    }
   },
   "cell_type": "code",
   "source": [
    "name = 'tola'\n",
    "print(f'{name} said God is good')"
   ],
   "id": "b3783a53ddef2d59",
   "outputs": [
    {
     "name": "stdout",
     "output_type": "stream",
     "text": [
      "tola said God is good\n"
     ]
    }
   ],
   "execution_count": 6
  },
  {
   "metadata": {
    "ExecuteTime": {
     "end_time": "2024-06-10T15:52:23.408013Z",
     "start_time": "2024-06-10T15:52:19.301979Z"
    }
   },
   "cell_type": "code",
   "source": [
    "# write a program that computes age by accepting year of birth\n",
    "\n",
    "year_birth = int(input('Enter your year of birth: ')) #type cast year_birth\n",
    "current_year = 2024 # create current year variable\n",
    "age = current_year - year_birth # compute age\n",
    "print(f'You are {age} years old')"
   ],
   "id": "886aeb34e953958c",
   "outputs": [
    {
     "name": "stdout",
     "output_type": "stream",
     "text": [
      "You are 122 years old\n"
     ]
    }
   ],
   "execution_count": 15
  },
  {
   "metadata": {},
   "cell_type": "markdown",
   "source": [
    "### Arithmetic Operators\n",
    "\n",
    "| Operator       | sign    |\n",
    "|----------------|---------|\n",
    "| addition       | +       |\n",
    "| subtraction    | -       |\n",
    "| division       | /       |\n",
    "| floor division | //      |\n",
    "| modulus        | %       |\n",
    "| multiplication | *       |\n",
    "| power          | **      |\n",
    "| root           | **(1/n) |\n",
    "\n"
   ],
   "id": "4a5a566f61f177ae"
  },
  {
   "metadata": {
    "ExecuteTime": {
     "end_time": "2024-06-10T16:12:18.431812Z",
     "start_time": "2024-06-10T16:12:18.423374Z"
    }
   },
   "cell_type": "code",
   "source": "8 ** (1/3)",
   "id": "41ea35c6f0dc5bc7",
   "outputs": [
    {
     "data": {
      "text/plain": [
       "2.0"
      ]
     },
     "execution_count": 30,
     "metadata": {},
     "output_type": "execute_result"
    }
   ],
   "execution_count": 30
  },
  {
   "metadata": {
    "ExecuteTime": {
     "end_time": "2024-06-10T16:10:30.684131Z",
     "start_time": "2024-06-10T16:10:30.674717Z"
    }
   },
   "cell_type": "code",
   "source": "27 % 10",
   "id": "bae502ec8d329e23",
   "outputs": [
    {
     "data": {
      "text/plain": [
       "7"
      ]
     },
     "execution_count": 26,
     "metadata": {},
     "output_type": "execute_result"
    }
   ],
   "execution_count": 26
  },
  {
   "metadata": {
    "ExecuteTime": {
     "end_time": "2024-06-10T16:19:56.921181Z",
     "start_time": "2024-06-10T16:19:50.671210Z"
    }
   },
   "cell_type": "code",
   "source": [
    "# write a program that converts naira to dollar\n",
    "\n",
    "naira = float(input('Enter the naira value: '))\n",
    "rate = 1400\n",
    "dollar = naira/rate\n",
    "print(f'{naira} naira is {round(dollar, 2)} dollars')"
   ],
   "id": "519962afc5d2182b",
   "outputs": [
    {
     "name": "stdout",
     "output_type": "stream",
     "text": [
      "65000.0 naira is 46.43 dollars\n"
     ]
    }
   ],
   "execution_count": 33
  },
  {
   "metadata": {},
   "cell_type": "markdown",
   "source": [
    "### Conditionals\n",
    "\n",
    "1. If \n",
    "2. elif\n",
    "3. else"
   ],
   "id": "8183cb1a2785e107"
  },
  {
   "metadata": {
    "ExecuteTime": {
     "end_time": "2024-06-14T13:43:56.494249Z",
     "start_time": "2024-06-14T13:43:49.560992Z"
    }
   },
   "cell_type": "code",
   "source": [
    "# write a program that checks if a person is an adult teenager or child\n",
    "\n",
    "name = input('Enter your name: ')\n",
    "year_birth = int(input('Enter your year of birth: '))\n",
    "age_class = None\n",
    "age = 2024 - year_birth\n",
    "if age < 13:\n",
    "    age_class = 'child'\n",
    "elif age < 20:\n",
    "    age_class = 'teenager'\n",
    "else:\n",
    "    age_class = 'adult'\n",
    "\n",
    "print(f'Hi {name}, you are a/an {age_class} of {age} years')"
   ],
   "id": "17c4040f10af767a",
   "outputs": [
    {
     "name": "stdout",
     "output_type": "stream",
     "text": [
      "Hi joy, you are a/an child of -211 years\n"
     ]
    }
   ],
   "execution_count": 17
  },
  {
   "metadata": {
    "ExecuteTime": {
     "end_time": "2024-06-14T14:00:18.401235Z",
     "start_time": "2024-06-14T14:00:15.190644Z"
    }
   },
   "cell_type": "code",
   "source": [
    "# fizz buzz challenge\n",
    "number = int(input('Enter the number: '))\n",
    "\n",
    "if number % 5 == 0 and number % 3 == 0:\n",
    "    print('FizzBUzz')\n",
    "elif number % 5 == 0:\n",
    "    print('Buzz')\n",
    "elif number % 3 == 0:\n",
    "    print('Fizz')"
   ],
   "id": "93c00c32e7c21cdc",
   "outputs": [
    {
     "name": "stdout",
     "output_type": "stream",
     "text": [
      "FizzBUzz\n"
     ]
    }
   ],
   "execution_count": 24
  },
  {
   "metadata": {},
   "cell_type": "markdown",
   "source": [
    "### Basic Data Structures\n",
    "\n",
    "##  Lists"
   ],
   "id": "c9c2ca467b8deb49"
  },
  {
   "metadata": {
    "ExecuteTime": {
     "end_time": "2024-06-14T14:07:37.827724Z",
     "start_time": "2024-06-14T14:07:37.821941Z"
    }
   },
   "cell_type": "code",
   "source": [
    "#  created a list of students\n",
    "students = ['ayo', 'shola','bayo']\n",
    "print(type(students))"
   ],
   "id": "ed26c56f8b8b7596",
   "outputs": [
    {
     "name": "stdout",
     "output_type": "stream",
     "text": [
      "<class 'dict'>\n"
     ]
    }
   ],
   "execution_count": 28
  },
  {
   "metadata": {
    "ExecuteTime": {
     "end_time": "2024-06-14T14:12:17.684477Z",
     "start_time": "2024-06-14T14:12:17.678678Z"
    }
   },
   "cell_type": "code",
   "source": [
    "things = [1,3.5, True, students, name,['nokia','gpt']]\n",
    "print(things)"
   ],
   "id": "4e4c7f5ce4777a44",
   "outputs": [
    {
     "name": "stdout",
     "output_type": "stream",
     "text": [
      "[1, 3.5, True, {'ayo': 12, 'shola': 25, 'bayo': 22}, 'joy', ['nokia', 'gpt']]\n"
     ]
    }
   ],
   "execution_count": 30
  },
  {
   "metadata": {
    "ExecuteTime": {
     "end_time": "2024-06-14T14:26:50.760073Z",
     "start_time": "2024-06-14T14:26:50.750617Z"
    }
   },
   "cell_type": "code",
   "source": [
    "# list referncing\n",
    "\n",
    "fruits = ['orange','appple','cashew','grape','mango']\n",
    "fruits[0]\n",
    "fruits[-4]\n",
    "\n",
    "# list slicing\n",
    "print(fruits[3:])\n",
    "fruits[:3]\n",
    "fruits[1:3]\n",
    "print(fruits[1:-1])"
   ],
   "id": "32f5248888b8b3d2",
   "outputs": [
    {
     "name": "stdout",
     "output_type": "stream",
     "text": [
      "['grape', 'mango']\n",
      "['appple', 'cashew', 'grape']\n"
     ]
    }
   ],
   "execution_count": 50
  },
  {
   "metadata": {},
   "cell_type": "code",
   "outputs": [],
   "execution_count": null,
   "source": "",
   "id": "3ff4dbd27b81d5e4"
  }
 ],
 "metadata": {
  "kernelspec": {
   "display_name": "Python 3",
   "language": "python",
   "name": "python3"
  },
  "language_info": {
   "codemirror_mode": {
    "name": "ipython",
    "version": 2
   },
   "file_extension": ".py",
   "mimetype": "text/x-python",
   "name": "python",
   "nbconvert_exporter": "python",
   "pygments_lexer": "ipython2",
   "version": "2.7.6"
  }
 },
 "nbformat": 4,
 "nbformat_minor": 5
}
